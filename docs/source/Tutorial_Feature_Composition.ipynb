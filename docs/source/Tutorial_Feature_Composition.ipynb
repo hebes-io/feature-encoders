{
 "cells": [
  {
   "cell_type": "markdown",
   "id": "bb66734f",
   "metadata": {},
   "source": [
    "# The functionality for composing linear model features\n",
    "\n",
    "`feature-encoders` includes a `ModelStructure` class for aggregating feature generators and encoders into main effect and pairwise interaction terms for linear regression models. \n",
    "\n",
    "A `ModelStructure` instance can get information about features and encoders either from YAML files or through its API."
   ]
  },
  {
   "cell_type": "code",
   "execution_count": 1,
   "id": "cb66649b",
   "metadata": {},
   "outputs": [],
   "source": [
    "import calendar\n",
    "import json\n",
    "import pandas as pd\n",
    "import matplotlib.pyplot as plt\n",
    "\n",
    "%matplotlib inline"
   ]
  },
  {
   "cell_type": "code",
   "execution_count": 2,
   "id": "b94811c1",
   "metadata": {},
   "outputs": [],
   "source": [
    "from feature_encoders.utils import load_config\n",
    "from feature_encoders.compose import ModelStructure, FeatureComposer\n",
    "from feature_encoders.generate import DatetimeFeatures\n",
    "from feature_encoders.models import SeasonalPredictor"
   ]
  },
  {
   "cell_type": "markdown",
   "id": "94d0500b",
   "metadata": {},
   "source": [
    "## Reading information from YAML files\n",
    "\n",
    "`feature-encoders` expects two YAML files:\n",
    "\n",
    "### Feature generator file\n",
    "\n",
    "A file that provides a mapping between the name of a feature generator and the classes that should be used for the validation of its inputs and for its creation:\n",
    "\n",
    "```yaml\n",
    "trend:\n",
    "  validate: validate.TrendSchema\n",
    "  generate: generate.TrendFeatures\n",
    "\n",
    "datetime:\n",
    "  validate: validate.DatetimeSchema\n",
    "  generate: generate.DatetimeFeatures\n",
    "\n",
    "cyclical:\n",
    "  validate: validate.CyclicalSchema\n",
    "  generate: generate.CyclicalFeatures\n",
    "```\n",
    "\n",
    "By default, `ModelStructure` searches in `feature_encoders.config` to find the validation and generation classes, but one can add packages by adding the fully qualified names of the corresponding classes.\n",
    "\n",
    "### Model configuration file\n",
    "\n",
    "These files have three sections: (a) added features, (b) regressors and (c) interactions.\n",
    "\n",
    "#### Added features\n",
    "\n",
    "The information in this section is passed to one of the feature generators in `feature_encoder.generate`:\n",
    "\n",
    "\n",
    "```yaml\n",
    "add_features:\n",
    "  time: # the name of the generator\n",
    "  ds: null \n",
    "  type: datetime\n",
    "  remainder: passthrough\n",
    "  subset: month, hourofweek\n",
    "```\n",
    "\n",
    "#### Regressors\n",
    "\n",
    "The information for each regressor includes its name, the name of the feature to use and encode so that to create this regressor, the type of the encoder (linear, spline or categorical), and the parameters to pass to the corresponding encoder class from `feature_encoders.encode`:\n",
    "\n",
    "```yaml\n",
    "regressors:\n",
    "  month:                 # the name of the regressor\n",
    "    feature: month       # the name of the feature \n",
    "    type: categorical\n",
    "    max_n_categories: null\n",
    "    encode_as: onehot \n",
    "\n",
    "  tow:                   # the name of the regressor\n",
    "    feature: hourofweek  # the name of the feature \n",
    "    type: categorical\n",
    "    max_n_categories: 60 \n",
    "    encode_as: onehot \n",
    "\n",
    "  flex_temperature:\n",
    "    feature: temperature\n",
    "    type: spline\n",
    "    n_knots: 5\n",
    "    degree: 1\n",
    "    strategy: uniform \n",
    "    extrapolation: constant\n",
    "    interaction_only: true  # if True, it will not be included in the main features\n",
    "\n",
    "```\n",
    "\n",
    "\n",
    "#### Interactions\n",
    "\n",
    "Interactions can introduce new regressors, reuse regressors already defined in the regressors section, as well as alter the parameters of regressors that are already defined in the regressors section:\n",
    "\n",
    "```yaml\n",
    "interactions:\n",
    "  tow, flex_temperature:\n",
    "    tow:\n",
    "      max_n_categories: 2 \n",
    "      stratify_by: temperature \n",
    "      min_samples_leaf: 15 \n",
    "```"
   ]
  },
  {
   "cell_type": "markdown",
   "id": "2c4f050d",
   "metadata": {},
   "source": [
    "### Load configuration files"
   ]
  },
  {
   "cell_type": "code",
   "execution_count": 3,
   "id": "2bbbcef9",
   "metadata": {},
   "outputs": [],
   "source": [
    "model_conf, feature_conf = load_config(model='towt', features='default')"
   ]
  },
  {
   "cell_type": "code",
   "execution_count": 4,
   "id": "bbc62713",
   "metadata": {},
   "outputs": [
    {
     "name": "stdout",
     "output_type": "stream",
     "text": [
      "{\n",
      "    \"add_features\": {\n",
      "        \"time\": {\n",
      "            \"type\": \"datetime\",\n",
      "            \"subset\": \"month, hourofweek\"\n",
      "        }\n",
      "    },\n",
      "    \"regressors\": {\n",
      "        \"month\": {\n",
      "            \"feature\": \"month\",\n",
      "            \"type\": \"categorical\",\n",
      "            \"encode_as\": \"onehot\"\n",
      "        },\n",
      "        \"tow\": {\n",
      "            \"feature\": \"hourofweek\",\n",
      "            \"type\": \"categorical\",\n",
      "            \"max_n_categories\": 60,\n",
      "            \"encode_as\": \"onehot\"\n",
      "        },\n",
      "        \"lin_temperature\": {\n",
      "            \"feature\": \"temperature\",\n",
      "            \"type\": \"linear\"\n",
      "        },\n",
      "        \"flex_temperature\": {\n",
      "            \"feature\": \"temperature\",\n",
      "            \"type\": \"spline\",\n",
      "            \"n_knots\": 5,\n",
      "            \"degree\": 1,\n",
      "            \"strategy\": \"uniform\",\n",
      "            \"extrapolation\": \"constant\",\n",
      "            \"include_bias\": true,\n",
      "            \"interaction_only\": true\n",
      "        }\n",
      "    },\n",
      "    \"interactions\": {\n",
      "        \"tow, flex_temperature\": {\n",
      "            \"tow\": {\n",
      "                \"max_n_categories\": 2,\n",
      "                \"stratify_by\": \"temperature\",\n",
      "                \"min_samples_leaf\": 15\n",
      "            }\n",
      "        }\n",
      "    }\n",
      "}\n"
     ]
    }
   ],
   "source": [
    "print(json.dumps(model_conf, indent=4))"
   ]
  },
  {
   "cell_type": "code",
   "execution_count": 5,
   "id": "5c5c0ebf",
   "metadata": {},
   "outputs": [
    {
     "name": "stdout",
     "output_type": "stream",
     "text": [
      "{\n",
      "    \"trend\": {\n",
      "        \"validate\": \"validate.TrendSchema\",\n",
      "        \"generate\": \"generate.TrendFeatures\"\n",
      "    },\n",
      "    \"datetime\": {\n",
      "        \"validate\": \"validate.DatetimeSchema\",\n",
      "        \"generate\": \"generate.DatetimeFeatures\"\n",
      "    },\n",
      "    \"cyclical\": {\n",
      "        \"validate\": \"validate.CyclicalSchema\",\n",
      "        \"generate\": \"generate.CyclicalFeatures\"\n",
      "    }\n",
      "}\n"
     ]
    }
   ],
   "source": [
    "print(json.dumps(feature_conf, indent=4))"
   ]
  },
  {
   "cell_type": "markdown",
   "id": "5b8f0bac",
   "metadata": {},
   "source": [
    "### Create `ModelStructure`"
   ]
  },
  {
   "cell_type": "code",
   "execution_count": 6,
   "id": "0b9be0b2",
   "metadata": {},
   "outputs": [],
   "source": [
    "model_structure = ModelStructure.from_config(model_conf, feature_conf)"
   ]
  },
  {
   "cell_type": "code",
   "execution_count": 7,
   "id": "6a7591dc",
   "metadata": {},
   "outputs": [
    {
     "name": "stdout",
     "output_type": "stream",
     "text": [
      "add_features --> dict_keys(['time'])\n",
      "main_effects --> dict_keys(['month', 'tow', 'lin_temperature'])\n",
      "interactions --> dict_keys([('tow', 'flex_temperature')])\n"
     ]
    }
   ],
   "source": [
    "for key, val in model_structure.components.items():\n",
    "    print(key, '-->', val.keys())"
   ]
  },
  {
   "cell_type": "markdown",
   "id": "bee6c851",
   "metadata": {},
   "source": [
    "### Create `FeatureComposer`"
   ]
  },
  {
   "cell_type": "markdown",
   "id": "3c9c21a5",
   "metadata": {},
   "source": [
    "Given the model structure, we can create and apply a `FeatureComposer`:"
   ]
  },
  {
   "cell_type": "code",
   "execution_count": 8,
   "id": "4a3b3c30",
   "metadata": {},
   "outputs": [],
   "source": [
    "composer = FeatureComposer(model_structure)"
   ]
  },
  {
   "cell_type": "markdown",
   "id": "73ab6db4",
   "metadata": {},
   "source": [
    "### Load demo data"
   ]
  },
  {
   "cell_type": "code",
   "execution_count": 9,
   "id": "e55f2f56",
   "metadata": {},
   "outputs": [],
   "source": [
    "data = pd.read_csv('data/data.csv', parse_dates=[0], index_col=0)\n",
    "data = data[~data['consumption_outlier']]"
   ]
  },
  {
   "cell_type": "markdown",
   "id": "6d2045d5",
   "metadata": {},
   "source": [
    "### Use the `FeatureComposer`"
   ]
  },
  {
   "cell_type": "code",
   "execution_count": 10,
   "id": "8975dd3f",
   "metadata": {},
   "outputs": [],
   "source": [
    "X = data[['temperature']]\n",
    "y = data['consumption']\n",
    "\n",
    "composer = composer.fit(X, y)"
   ]
  },
  {
   "cell_type": "markdown",
   "id": "271013a4",
   "metadata": {},
   "source": [
    "The `fit` method of the composer calls two methods: `_create_new_features` and `_create_encoders`. The feature generators are applied in the same order that they were declared in the YAML configuration file."
   ]
  },
  {
   "cell_type": "code",
   "execution_count": 11,
   "id": "d8b3540a",
   "metadata": {},
   "outputs": [
    {
     "name": "stdout",
     "output_type": "stream",
     "text": [
      "DatetimeFeatures(subset=['month', 'hourofweek'])\n"
     ]
    }
   ],
   "source": [
    "for item in composer.added_features_:\n",
    "    print(item)"
   ]
  },
  {
   "cell_type": "code",
   "execution_count": 12,
   "id": "2c845c8f",
   "metadata": {},
   "outputs": [
    {
     "name": "stdout",
     "output_type": "stream",
     "text": [
      "--> month\n",
      "CategoricalEncoder(feature='month')\n",
      "--> tow\n",
      "CategoricalEncoder(feature='hourofweek', max_n_categories=60)\n",
      "--> lin_temperature\n",
      "IdentityEncoder(feature='temperature')\n"
     ]
    }
   ],
   "source": [
    "for name, encoder in composer.encoders_['main_effects'].items():\n",
    "    print('-->', name)\n",
    "    print(encoder)"
   ]
  },
  {
   "cell_type": "code",
   "execution_count": 13,
   "id": "9e8ce9be",
   "metadata": {},
   "outputs": [
    {
     "name": "stdout",
     "output_type": "stream",
     "text": [
      "--> ('tow', 'flex_temperature')\n",
      "ICatSplineEncoder(encoder_cat=CategoricalEncoder(feature='hourofweek',\n",
      "                                                 max_n_categories=2,\n",
      "                                                 min_samples_leaf=15,\n",
      "                                                 stratify_by=['temperature']),\n",
      "                  encoder_num=SplineEncoder(degree=1, feature='temperature'))\n"
     ]
    }
   ],
   "source": [
    "for pair_name, encoder in composer.encoders_['interactions'].items():\n",
    "    print('-->', pair_name)\n",
    "    print(encoder)"
   ]
  },
  {
   "cell_type": "markdown",
   "id": "f2304829",
   "metadata": {},
   "source": [
    "After fitting, a composer has a `component_names_` attribute:"
   ]
  },
  {
   "cell_type": "code",
   "execution_count": 14,
   "id": "9042cf1b",
   "metadata": {},
   "outputs": [
    {
     "data": {
      "text/plain": [
       "['lin_temperature', 'month', 'tow', 'tow:flex_temperature']"
      ]
     },
     "execution_count": 14,
     "metadata": {},
     "output_type": "execute_result"
    }
   ],
   "source": [
    "composer.component_names_"
   ]
  },
  {
   "cell_type": "markdown",
   "id": "6601f255",
   "metadata": {},
   "source": [
    "It also has a `component_matrix` attribute that shows how the different columns of the [design matrix](https://en.wikipedia.org/wiki/Design_matrix) correspond to the different components. This allows us to break down a model's prediction into the additive contribution of each component."
   ]
  },
  {
   "cell_type": "code",
   "execution_count": 15,
   "id": "1db83cd6",
   "metadata": {},
   "outputs": [
    {
     "data": {
      "text/html": [
       "<div>\n",
       "<style scoped>\n",
       "    .dataframe tbody tr th:only-of-type {\n",
       "        vertical-align: middle;\n",
       "    }\n",
       "\n",
       "    .dataframe tbody tr th {\n",
       "        vertical-align: top;\n",
       "    }\n",
       "\n",
       "    .dataframe thead th {\n",
       "        text-align: right;\n",
       "    }\n",
       "</style>\n",
       "<table border=\"1\" class=\"dataframe\">\n",
       "  <thead>\n",
       "    <tr style=\"text-align: right;\">\n",
       "      <th>component</th>\n",
       "      <th>lin_temperature</th>\n",
       "      <th>month</th>\n",
       "      <th>tow</th>\n",
       "      <th>tow:flex_temperature</th>\n",
       "    </tr>\n",
       "    <tr>\n",
       "      <th>col</th>\n",
       "      <th></th>\n",
       "      <th></th>\n",
       "      <th></th>\n",
       "      <th></th>\n",
       "    </tr>\n",
       "  </thead>\n",
       "  <tbody>\n",
       "    <tr>\n",
       "      <th>0</th>\n",
       "      <td>0</td>\n",
       "      <td>1</td>\n",
       "      <td>0</td>\n",
       "      <td>0</td>\n",
       "    </tr>\n",
       "    <tr>\n",
       "      <th>1</th>\n",
       "      <td>0</td>\n",
       "      <td>1</td>\n",
       "      <td>0</td>\n",
       "      <td>0</td>\n",
       "    </tr>\n",
       "    <tr>\n",
       "      <th>2</th>\n",
       "      <td>0</td>\n",
       "      <td>1</td>\n",
       "      <td>0</td>\n",
       "      <td>0</td>\n",
       "    </tr>\n",
       "    <tr>\n",
       "      <th>3</th>\n",
       "      <td>0</td>\n",
       "      <td>1</td>\n",
       "      <td>0</td>\n",
       "      <td>0</td>\n",
       "    </tr>\n",
       "    <tr>\n",
       "      <th>4</th>\n",
       "      <td>0</td>\n",
       "      <td>1</td>\n",
       "      <td>0</td>\n",
       "      <td>0</td>\n",
       "    </tr>\n",
       "    <tr>\n",
       "      <th>...</th>\n",
       "      <td>...</td>\n",
       "      <td>...</td>\n",
       "      <td>...</td>\n",
       "      <td>...</td>\n",
       "    </tr>\n",
       "    <tr>\n",
       "      <th>78</th>\n",
       "      <td>0</td>\n",
       "      <td>0</td>\n",
       "      <td>0</td>\n",
       "      <td>1</td>\n",
       "    </tr>\n",
       "    <tr>\n",
       "      <th>79</th>\n",
       "      <td>0</td>\n",
       "      <td>0</td>\n",
       "      <td>0</td>\n",
       "      <td>1</td>\n",
       "    </tr>\n",
       "    <tr>\n",
       "      <th>80</th>\n",
       "      <td>0</td>\n",
       "      <td>0</td>\n",
       "      <td>0</td>\n",
       "      <td>1</td>\n",
       "    </tr>\n",
       "    <tr>\n",
       "      <th>81</th>\n",
       "      <td>0</td>\n",
       "      <td>0</td>\n",
       "      <td>0</td>\n",
       "      <td>1</td>\n",
       "    </tr>\n",
       "    <tr>\n",
       "      <th>82</th>\n",
       "      <td>0</td>\n",
       "      <td>0</td>\n",
       "      <td>0</td>\n",
       "      <td>1</td>\n",
       "    </tr>\n",
       "  </tbody>\n",
       "</table>\n",
       "<p>83 rows × 4 columns</p>\n",
       "</div>"
      ],
      "text/plain": [
       "component  lin_temperature  month  tow  tow:flex_temperature\n",
       "col                                                         \n",
       "0                        0      1    0                     0\n",
       "1                        0      1    0                     0\n",
       "2                        0      1    0                     0\n",
       "3                        0      1    0                     0\n",
       "4                        0      1    0                     0\n",
       "..                     ...    ...  ...                   ...\n",
       "78                       0      0    0                     1\n",
       "79                       0      0    0                     1\n",
       "80                       0      0    0                     1\n",
       "81                       0      0    0                     1\n",
       "82                       0      0    0                     1\n",
       "\n",
       "[83 rows x 4 columns]"
      ]
     },
     "execution_count": 15,
     "metadata": {},
     "output_type": "execute_result"
    }
   ],
   "source": [
    "composer.component_matrix"
   ]
  },
  {
   "cell_type": "markdown",
   "id": "c34cb438",
   "metadata": {},
   "source": [
    "The design matrix is constructed by transforming the data:   "
   ]
  },
  {
   "cell_type": "code",
   "execution_count": 16,
   "id": "7c4e4168",
   "metadata": {},
   "outputs": [],
   "source": [
    "design_matrix = composer.transform(X)"
   ]
  },
  {
   "cell_type": "code",
   "execution_count": 17,
   "id": "e8fd25ff",
   "metadata": {},
   "outputs": [],
   "source": [
    "assert design_matrix.shape[0] == X.shape[0]\n",
    "assert design_matrix.shape[1] == composer.component_matrix.shape[0]"
   ]
  },
  {
   "cell_type": "code",
   "execution_count": 18,
   "id": "d3c36686",
   "metadata": {},
   "outputs": [],
   "source": [
    "n_features = 0\n",
    "\n",
    "for encoder in composer.encoders_['main_effects'].values():\n",
    "    n_features += encoder.n_features_out_\n",
    "    \n",
    "for encoder in composer.encoders_['interactions'].values():\n",
    "    n_features += encoder.n_features_out_\n",
    "    \n",
    "assert design_matrix.shape[1] == n_features"
   ]
  },
  {
   "cell_type": "markdown",
   "id": "9e62b4eb",
   "metadata": {},
   "source": [
    "## Using the API\n",
    "\n",
    "An example of using the `ModelStructure` API can be found in `feature_encoders.models.SeasonalPredictor`:\n",
    "\n",
    "```python\n",
    "def _create_composer(self):\n",
    "    model_structure = ModelStructure()\n",
    "\n",
    "    if self.add_trend:\n",
    "        model_structure = model_structure.add_new_feature(\n",
    "            name=\"added_trend\",\n",
    "            fgen_type=TrendFeatures(\n",
    "                ds=self.ds,\n",
    "                name=\"growth\",\n",
    "                remainder=\"passthrough\",\n",
    "                replace=False,\n",
    "            ),\n",
    "        )\n",
    "        model_structure = model_structure.add_main_effect(\n",
    "            name=\"trend\",\n",
    "            enc_type=IdentityEncoder(\n",
    "                feature=\"growth\",\n",
    "                as_filter=False,\n",
    "                include_bias=False,\n",
    "            ),\n",
    "        )\n",
    "\n",
    "    for seasonality, props in self.seasonalities_.items():\n",
    "        condition_name = props[\"condition_name\"]\n",
    "\n",
    "        model_structure = model_structure.add_new_feature(\n",
    "            name=seasonality,\n",
    "            fgen_type=CyclicalFeatures(\n",
    "                seasonality=seasonality,\n",
    "                ds=self.ds,\n",
    "                period=props.get(\"period\"),\n",
    "                fourier_order=props.get(\"fourier_order\"),\n",
    "                remainder=\"passthrough\",\n",
    "                replace=False,\n",
    "            ),\n",
    "        )\n",
    "\n",
    "        if condition_name is None:\n",
    "            model_structure = model_structure.add_main_effect(\n",
    "                name=seasonality,\n",
    "                enc_type=IdentityEncoder(\n",
    "                    feature=seasonality,\n",
    "                    as_filter=True,\n",
    "                    include_bias=False,\n",
    "                ),\n",
    "            )\n",
    "        else:\n",
    "            model_structure = model_structure.add_interaction(\n",
    "                lenc_name=condition_name,\n",
    "                renc_name=seasonality,\n",
    "                lenc_type=CategoricalEncoder(\n",
    "                    feature=condition_name, encode_as=\"onehot\"\n",
    "                ),\n",
    "                renc_type=IdentityEncoder(\n",
    "                    feature=seasonality, as_filter=True, include_bias=False\n",
    "                ),\n",
    "            )\n",
    "    return FeatureComposer(model_structure)\n",
    "```"
   ]
  },
  {
   "cell_type": "code",
   "execution_count": 19,
   "id": "f71869a1",
   "metadata": {},
   "outputs": [],
   "source": [
    "model = SeasonalPredictor(\n",
    "        ds=None,\n",
    "        add_trend=True,\n",
    "        yearly_seasonality=\"auto\",\n",
    "        weekly_seasonality=False,\n",
    "        daily_seasonality=False,\n",
    ")"
   ]
  },
  {
   "cell_type": "markdown",
   "id": "f4c58201",
   "metadata": {},
   "source": [
    "We can add a different daily seasonality per day of week:"
   ]
  },
  {
   "cell_type": "code",
   "execution_count": 20,
   "id": "14bf8723",
   "metadata": {},
   "outputs": [],
   "source": [
    "X = DatetimeFeatures(subset='dayofweek').fit_transform(X)\n",
    "X['dayofweek'] = X['dayofweek'].map(lambda x: calendar.day_abbr[x])\n",
    "X = X.merge(pd.get_dummies(X['dayofweek']), \n",
    "            left_index=True, \n",
    "            right_index=True).drop('dayofweek', axis=1\n",
    ")"
   ]
  },
  {
   "cell_type": "code",
   "execution_count": 21,
   "id": "298a9d4c",
   "metadata": {},
   "outputs": [],
   "source": [
    "for i in range(7):\n",
    "    day = calendar.day_abbr[i]\n",
    "    model.add_seasonality(\n",
    "        f\"daily_on_{day}\", period=1, fourier_order=4, condition_name=day\n",
    "    )"
   ]
  },
  {
   "cell_type": "code",
   "execution_count": 22,
   "id": "9ef3c089",
   "metadata": {},
   "outputs": [],
   "source": [
    "model = model.fit(X, y)"
   ]
  },
  {
   "cell_type": "code",
   "execution_count": 23,
   "id": "2da1e517",
   "metadata": {},
   "outputs": [
    {
     "name": "stdout",
     "output_type": "stream",
     "text": [
      "TrendFeatures()\n",
      "CyclicalFeatures(fourier_order=4, period=1.0, seasonality='daily_on_Mon')\n",
      "CyclicalFeatures(fourier_order=4, period=1.0, seasonality='daily_on_Tue')\n",
      "CyclicalFeatures(fourier_order=4, period=1.0, seasonality='daily_on_Wed')\n",
      "CyclicalFeatures(fourier_order=4, period=1.0, seasonality='daily_on_Thu')\n",
      "CyclicalFeatures(fourier_order=4, period=1.0, seasonality='daily_on_Fri')\n",
      "CyclicalFeatures(fourier_order=4, period=1.0, seasonality='daily_on_Sat')\n",
      "CyclicalFeatures(fourier_order=4, period=1.0, seasonality='daily_on_Sun')\n",
      "CyclicalFeatures(fourier_order=6, period=365.25, seasonality='yearly')\n"
     ]
    }
   ],
   "source": [
    "for item in model.composer_.added_features_:\n",
    "    print(item)"
   ]
  },
  {
   "cell_type": "code",
   "execution_count": 24,
   "id": "11477216",
   "metadata": {},
   "outputs": [
    {
     "name": "stdout",
     "output_type": "stream",
     "text": [
      "--> trend\n",
      "IdentityEncoder(feature='growth')\n",
      "--> yearly\n",
      "IdentityEncoder(as_filter=True, feature='yearly')\n"
     ]
    }
   ],
   "source": [
    "for name, encoder in model.composer_.encoders_['main_effects'].items():\n",
    "    print('-->', name)\n",
    "    print(encoder)"
   ]
  },
  {
   "cell_type": "code",
   "execution_count": 25,
   "id": "788f4153",
   "metadata": {},
   "outputs": [
    {
     "name": "stdout",
     "output_type": "stream",
     "text": [
      "--> ('Mon', 'daily_on_Mon')\n",
      "ICatLinearEncoder(encoder_cat=CategoricalEncoder(feature='Mon'),\n",
      "                  encoder_num=IdentityEncoder(as_filter=True,\n",
      "                                              feature='daily_on_Mon'))\n",
      "--> ('Tue', 'daily_on_Tue')\n",
      "ICatLinearEncoder(encoder_cat=CategoricalEncoder(feature='Tue'),\n",
      "                  encoder_num=IdentityEncoder(as_filter=True,\n",
      "                                              feature='daily_on_Tue'))\n",
      "--> ('Wed', 'daily_on_Wed')\n",
      "ICatLinearEncoder(encoder_cat=CategoricalEncoder(feature='Wed'),\n",
      "                  encoder_num=IdentityEncoder(as_filter=True,\n",
      "                                              feature='daily_on_Wed'))\n",
      "--> ('Thu', 'daily_on_Thu')\n",
      "ICatLinearEncoder(encoder_cat=CategoricalEncoder(feature='Thu'),\n",
      "                  encoder_num=IdentityEncoder(as_filter=True,\n",
      "                                              feature='daily_on_Thu'))\n",
      "--> ('Fri', 'daily_on_Fri')\n",
      "ICatLinearEncoder(encoder_cat=CategoricalEncoder(feature='Fri'),\n",
      "                  encoder_num=IdentityEncoder(as_filter=True,\n",
      "                                              feature='daily_on_Fri'))\n",
      "--> ('Sat', 'daily_on_Sat')\n",
      "ICatLinearEncoder(encoder_cat=CategoricalEncoder(feature='Sat'),\n",
      "                  encoder_num=IdentityEncoder(as_filter=True,\n",
      "                                              feature='daily_on_Sat'))\n",
      "--> ('Sun', 'daily_on_Sun')\n",
      "ICatLinearEncoder(encoder_cat=CategoricalEncoder(feature='Sun'),\n",
      "                  encoder_num=IdentityEncoder(as_filter=True,\n",
      "                                              feature='daily_on_Sun'))\n"
     ]
    }
   ],
   "source": [
    "for pair_name, encoder in model.composer_.encoders_['interactions'].items():\n",
    "    print('-->', pair_name)\n",
    "    print(encoder)"
   ]
  },
  {
   "cell_type": "code",
   "execution_count": 26,
   "id": "4e0d98f4",
   "metadata": {},
   "outputs": [],
   "source": [
    "prediction = model.predict(X)"
   ]
  },
  {
   "cell_type": "code",
   "execution_count": 27,
   "id": "a869e236",
   "metadata": {},
   "outputs": [
    {
     "data": {
      "image/png": "[encoded data removed]",
      "text/plain": [
       "<Figure size 1152x288 with 1 Axes>"
      ]
     },
     "metadata": {},
     "output_type": "display_data"
    }
   ],
   "source": [
    "with plt.style.context('seaborn-whitegrid'):    \n",
    "    fig = plt.figure(figsize=(12, 3), dpi=96)\n",
    "    layout = (1, 1)\n",
    "    ax = plt.subplot2grid(layout, (0, 0))\n",
    "    \n",
    "    prediction['consumption'][:1344].plot(ax=ax, alpha=0.8) #2 weeks data\n",
    "    y[:1344].plot(ax=ax, alpha=0.5)"
   ]
  },
  {
   "cell_type": "markdown",
   "id": "0b6e4d05",
   "metadata": {},
   "source": [
    "### Consistency checks "
   ]
  },
  {
   "cell_type": "code",
   "execution_count": 28,
   "id": "a1e0662a",
   "metadata": {},
   "outputs": [],
   "source": [
    "design_matrix = model.composer_.transform(X)"
   ]
  },
  {
   "cell_type": "code",
   "execution_count": 29,
   "id": "26021776",
   "metadata": {},
   "outputs": [],
   "source": [
    "for i in range(7):\n",
    "    day = calendar.day_abbr[i]\n",
    "\n",
    "    subset_index = model.composer_.component_matrix[\n",
    "                    model.composer_.component_matrix[f'{day}:daily_on_{day}'] == 1\n",
    "                   ].index\n",
    "    subset = pd.DataFrame(design_matrix[:, subset_index], index=X.index)\n",
    "    \n",
    "    features_on = subset.columns[(subset.loc[X[X[day]==1].index] == 0).all()]\n",
    "    features_off = subset.columns[(subset.loc[X[X[day]==0].index] == 0).all()]\n",
    "\n",
    "    assert features_on.intersection(features_off).empty"
   ]
  },
  {
   "cell_type": "markdown",
   "id": "f21c82a6",
   "metadata": {},
   "source": [
    "The model works even if we replace:\n",
    "\n",
    "```python\n",
    "model_structure = model_structure.add_interaction(\n",
    "    lenc_name=condition_name,\n",
    "    renc_name=seasonality,\n",
    "    lenc_type=CategoricalEncoder(\n",
    "        feature=condition_name, encode_as=\"onehot\"\n",
    "    ),\n",
    "    renc_type=IdentityEncoder(\n",
    "        feature=seasonality, as_filter=True, include_bias=False\n",
    "    ),\n",
    ")\n",
    "```\n",
    "\n",
    "with\n",
    "\n",
    "```python\n",
    "model_structure = model_structure.add_interaction(\n",
    "    lenc_name=condition_name,\n",
    "    renc_name=seasonality,\n",
    "    lenc_type=\"categorical\",\n",
    "    right_enc_type=\"linear\",\n",
    "    left_feature=condition_name,\n",
    "    renc_type=seasonality,\n",
    "    **{\n",
    "        condition_name: {\"encode_as\": \"onehot\"},\n",
    "        seasonality: {\"as_filter\": True, \"include_bias\": False},\n",
    "    },\n",
    ")\n",
    "```\n",
    "\n",
    "because the `FeatureComposer` maps \"categorical\" to `CategoricalEncoder`, \"linear\" to `IdentityEncoder` and \"spline\" to `SplineEncoder`, and passes all additional keyword arguments to the corresponding initializers."
   ]
  },
  {
   "cell_type": "markdown",
   "id": "35f1d6ec",
   "metadata": {},
   "source": [
    "------------"
   ]
  }
 ],
 "metadata": {
  "kernelspec": {
   "display_name": "Python 3 (ipykernel)",
   "language": "python",
   "name": "python3"
  },
  "language_info": {
   "codemirror_mode": {
    "name": "ipython",
    "version": 3
   },
   "file_extension": ".py",
   "mimetype": "text/x-python",
   "name": "python",
   "nbconvert_exporter": "python",
   "pygments_lexer": "ipython3",
   "version": "3.8.12"
  }
 },
 "nbformat": 4,
 "nbformat_minor": 5
}
